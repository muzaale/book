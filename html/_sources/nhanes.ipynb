{
 "cells": [
  {
   "cell_type": "code",
   "execution_count": 13,
   "metadata": {},
   "outputs": [],
   "source": [
    "# From chatGPT: wharts & all\n",
    "\n",
    "import pandas as pd\n",
    "import requests\n",
    "\n",
    "# Download the .DAT file\n",
    "url = \"https://wwwn.cdc.gov/nchs/data/nhanes3/1a/adult.sas\"\n",
    "response = requests.get(url)\n",
    "with open('adult.dat', 'wb') as f:\n",
    "    f.write(response.content)\n",
    "\n",
    "# Read the local .DAT file into a Pandas DataFrame\n",
    "filename = \"adult.dat\"\n",
    "df = pd.read_fwf(filename, widths=[5, 5, 1, 1, 1, 1, 1, 2, 2], \n",
    "                 header=None, \n",
    "                 encoding=\"utf-8\")\n",
    "\n",
    "# Define column labels\n",
    "df.columns = [\"SEQN\", \"DMPFSEQ\", \"DMPSTAT\", \"DMARETHN\", \"DMARACER\", \"DMAETHNR\", \"HSSEX\", \"HSDOIMO\", \"HSAGEIR\"]\n"
   ]
  }
 ],
 "metadata": {
  "kernelspec": {
   "display_name": "Python 3",
   "language": "python",
   "name": "python3"
  },
  "language_info": {
   "name": "python",
   "version": "3.11.2"
  },
  "orig_nbformat": 4
 },
 "nbformat": 4,
 "nbformat_minor": 2
}
