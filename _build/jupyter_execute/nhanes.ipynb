{
 "cells": [
  {
   "cell_type": "code",
   "execution_count": 1,
   "metadata": {},
   "outputs": [
    {
     "ename": "ModuleNotFoundError",
     "evalue": "No module named 'pandas'",
     "output_type": "error",
     "traceback": [
      "\u001b[0;31m---------------------------------------------------------------------------\u001b[0m",
      "\u001b[0;31mModuleNotFoundError\u001b[0m                       Traceback (most recent call last)",
      "Cell \u001b[0;32mIn[1], line 3\u001b[0m\n\u001b[1;32m      1\u001b[0m \u001b[38;5;66;03m# From chatGPT: wharts & all\u001b[39;00m\n\u001b[0;32m----> 3\u001b[0m \u001b[38;5;28;01mimport\u001b[39;00m \u001b[38;5;21;01mpandas\u001b[39;00m \u001b[38;5;28;01mas\u001b[39;00m \u001b[38;5;21;01mpd\u001b[39;00m\n\u001b[1;32m      4\u001b[0m \u001b[38;5;28;01mimport\u001b[39;00m \u001b[38;5;21;01mrequests\u001b[39;00m\n\u001b[1;32m      6\u001b[0m \u001b[38;5;66;03m# Download the .DAT file\u001b[39;00m\n",
      "\u001b[0;31mModuleNotFoundError\u001b[0m: No module named 'pandas'"
     ]
    }
   ],
   "source": [
    "# From chatGPT: wharts & all\n",
    "\n",
    "import pandas as pd\n",
    "import requests\n",
    "\n",
    "# Download the .DAT file\n",
    "url = \"https://wwwn.cdc.gov/nchs/data/nhanes3/1a/adult.sas\"\n",
    "response = requests.get(url)\n",
    "with open('adult.dat', 'wb') as f:\n",
    "    f.write(response.content)\n",
    "\n",
    "# Read the local .DAT file into a Pandas DataFrame\n",
    "filename = \"adult.dat\"\n",
    "df = pd.read_fwf(filename, widths=[5, 5, 1, 1, 1, 1, 1, 2, 2], \n",
    "                 header=None, \n",
    "                 encoding=\"utf-8\")\n",
    "\n",
    "# Define column labels\n",
    "df.columns = [\"SEQN\", \"DMPFSEQ\", \"DMPSTAT\", \"DMARETHN\", \"DMARACER\", \"DMAETHNR\", \"HSSEX\", \"HSDOIMO\", \"HSAGEIR\"]\n"
   ]
  }
 ],
 "metadata": {
  "kernelspec": {
   "display_name": "Python 3",
   "language": "python",
   "name": "python3"
  },
  "language_info": {
   "codemirror_mode": {
    "name": "ipython",
    "version": 3
   },
   "file_extension": ".py",
   "mimetype": "text/x-python",
   "name": "python",
   "nbconvert_exporter": "python",
   "pygments_lexer": "ipython3",
   "version": "3.11.2"
  }
 },
 "nbformat": 4,
 "nbformat_minor": 2
}