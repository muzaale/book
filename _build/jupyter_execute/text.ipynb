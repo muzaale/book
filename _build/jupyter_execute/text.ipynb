{
 "cells": [
  {
   "cell_type": "markdown",
   "id": "e9d2172a",
   "metadata": {},
   "source": [
    "# text"
   ]
  },
  {
   "cell_type": "code",
   "execution_count": 1,
   "id": "07b3658f",
   "metadata": {},
   "outputs": [
    {
     "name": "stdout",
     "output_type": "stream",
     "text": [
      "4\n"
     ]
    }
   ],
   "source": [
    "print(2 + 2)"
   ]
  },
  {
   "cell_type": "markdown",
   "id": "d5067454",
   "metadata": {},
   "source": [
    "```{seealso}\n",
    "no more dropbox!\n",
    "```\n",
    "\n",
    "My journal\n",
    "\n",
    "04/04/2023\n",
    "\n",
    "1. Created a jupyter-book to walk students through the process of creating their own\n",
    "2. With more users of `git`, `vscode`, and `hub` plus amenities like jupter-book?\n",
    "3. The sky -- from a collaborative, growth, acceleration standpoint -- isn't the limit!\n",
    "\n",
    "Now lets publish these updates:\n",
    "\n",
    "```\n",
    "$ jupyter-book build jhustata.notebook\n",
    "$ cp -r jhustata.notebook/* classnotes\n",
    "$ cd classnotes\n",
    "$ git add ./*\n",
    "$ git rm logo.png markdown-notebooks.md markdown.md notebooks.ipynb\n",
    "$ git commit -m \"the zeitgeist behind the new changes\"\n",
    "$ git push\n",
    "$ ghp-import -n -p -f _build/html\n",
    "```\n",
    "\n",
    "Don't forget to edit your `_config.yml` and `_toc.yml` as you move along!\n",
    "\n",
    "Webscrape [Mona](https://www.monamakeupstudio.com)?\n",
    "\n",
    "Also, remember to keep a private `repo` that no one else has access to."
   ]
  }
 ],
 "metadata": {
  "jupytext": {
   "formats": "md:myst",
   "text_representation": {
    "extension": ".md",
    "format_name": "myst",
    "format_version": 0.13,
    "jupytext_version": "1.11.5"
   }
  },
  "kernelspec": {
   "display_name": "Python 3",
   "language": "python",
   "name": "python3"
  },
  "language_info": {
   "codemirror_mode": {
    "name": "ipython",
    "version": 3
   },
   "file_extension": ".py",
   "mimetype": "text/x-python",
   "name": "python",
   "nbconvert_exporter": "python",
   "pygments_lexer": "ipython3",
   "version": "3.11.2"
  },
  "source_map": [
   13,
   17,
   19
  ]
 },
 "nbformat": 4,
 "nbformat_minor": 5
}